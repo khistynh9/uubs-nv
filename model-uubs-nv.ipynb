{
 "cells": [
  {
   "cell_type": "code",
   "execution_count": 56,
   "id": "f6e31079",
   "metadata": {},
   "outputs": [],
   "source": [
    "#library\n",
    "#manage data\n",
    "import pandas as pd\n",
    "import numpy as np\n",
    "\n",
    "#extract kata\n",
    "from sklearn.feature_extraction.text import CountVectorizer\n",
    "from sklearn.feature_extraction.text import TfidfTransformer\n",
    "\n",
    "#latih/train data\n",
    "from sklearn.model_selection import train_test_split\n",
    "#training dan uji data dengan Naive Bayes\n",
    "from sklearn.naive_bayes import MultinomialNB\n",
    "\n",
    "#evaluasi\n",
    "from sklearn import metrics\n",
    "from sklearn.metrics import classification_report\n",
    "\n",
    "#visualisasi data\n",
    "import matplotlib.pyplot as plt\n",
    "import seaborn as sns"
   ]
  },
  {
   "cell_type": "code",
   "execution_count": 2,
   "id": "35c3fe9e",
   "metadata": {},
   "outputs": [],
   "source": [
    "#prepare data set\n",
    "tingkat_data = pd.read_csv('./dataset-uubs.csv')\n",
    "columns = ['loma','hormat ka sorangan','hormat ka batur','kecap']\n",
    "rows = []\n",
    "train_data = pd.DataFrame(tingkat_data, columns=columns)\n",
    "\n",
    "#tingkatan loma\n",
    "tingkat_loma = [row['loma'] for index,row in train_data.iterrows()]\n",
    "# print(tingkat_loma)\n",
    "#tingkatan ls\n",
    "tingkat_ls = [row['hormat ka sorangan'] for index,row in train_data.iterrows()]\n",
    "\n",
    "#tingkatan lb\n",
    "tingkat_lb = [row['hormat ka batur'] for index,row in train_data.iterrows()]"
   ]
  },
  {
   "cell_type": "code",
   "execution_count": 3,
   "id": "56262278",
   "metadata": {},
   "outputs": [
    {
     "data": {
      "text/html": [
       "<div>\n",
       "<style scoped>\n",
       "    .dataframe tbody tr th:only-of-type {\n",
       "        vertical-align: middle;\n",
       "    }\n",
       "\n",
       "    .dataframe tbody tr th {\n",
       "        vertical-align: top;\n",
       "    }\n",
       "\n",
       "    .dataframe thead th {\n",
       "        text-align: right;\n",
       "    }\n",
       "</style>\n",
       "<table border=\"1\" class=\"dataframe\">\n",
       "  <thead>\n",
       "    <tr style=\"text-align: right;\">\n",
       "      <th></th>\n",
       "      <th>loma</th>\n",
       "      <th>hormat ka sorangan</th>\n",
       "      <th>hormat ka batur</th>\n",
       "      <th>kecap</th>\n",
       "    </tr>\n",
       "  </thead>\n",
       "  <tbody>\n",
       "    <tr>\n",
       "      <th>0</th>\n",
       "      <td>akang</td>\n",
       "      <td>akang</td>\n",
       "      <td>engkang</td>\n",
       "      <td>Gaganti ngaran</td>\n",
       "    </tr>\n",
       "    <tr>\n",
       "      <th>1</th>\n",
       "      <td>kuring</td>\n",
       "      <td>abdi</td>\n",
       "      <td>NaN</td>\n",
       "      <td>Gaganti ngaran</td>\n",
       "    </tr>\n",
       "    <tr>\n",
       "      <th>2</th>\n",
       "      <td>kuring sarerea</td>\n",
       "      <td>abdi sadayana</td>\n",
       "      <td>NaN</td>\n",
       "      <td>Gaganti ngaran</td>\n",
       "    </tr>\n",
       "    <tr>\n",
       "      <th>3</th>\n",
       "      <td>pribadi</td>\n",
       "      <td>pribados</td>\n",
       "      <td>ku anjeun</td>\n",
       "      <td>Gaganti ngaran</td>\n",
       "    </tr>\n",
       "    <tr>\n",
       "      <th>4</th>\n",
       "      <td>sorangan</td>\n",
       "      <td>sorangan</td>\n",
       "      <td>nyalira</td>\n",
       "      <td>Gaganti ngaran</td>\n",
       "    </tr>\n",
       "    <tr>\n",
       "      <th>5</th>\n",
       "      <td>adi</td>\n",
       "      <td>pun adi</td>\n",
       "      <td>tuang rai</td>\n",
       "      <td>Pancakaki</td>\n",
       "    </tr>\n",
       "    <tr>\n",
       "      <th>6</th>\n",
       "      <td>aki</td>\n",
       "      <td>pun aki</td>\n",
       "      <td>tuang eyang</td>\n",
       "      <td>Pancakaki</td>\n",
       "    </tr>\n",
       "    <tr>\n",
       "      <th>7</th>\n",
       "      <td>alo</td>\n",
       "      <td>pun alo</td>\n",
       "      <td>kapiputra</td>\n",
       "      <td>Pancakaki</td>\n",
       "    </tr>\n",
       "    <tr>\n",
       "      <th>8</th>\n",
       "      <td>anak</td>\n",
       "      <td>pun anak</td>\n",
       "      <td>tuang putra</td>\n",
       "      <td>Pancakaki</td>\n",
       "    </tr>\n",
       "    <tr>\n",
       "      <th>9</th>\n",
       "      <td>bapa</td>\n",
       "      <td>pun bapa</td>\n",
       "      <td>tuang rama</td>\n",
       "      <td>Pancakaki</td>\n",
       "    </tr>\n",
       "    <tr>\n",
       "      <th>10</th>\n",
       "      <td>baraya</td>\n",
       "      <td>rerehan</td>\n",
       "      <td>wargi</td>\n",
       "      <td>Pancakaki</td>\n",
       "    </tr>\n",
       "    <tr>\n",
       "      <th>11</th>\n",
       "      <td>bibi</td>\n",
       "      <td>pun bibi</td>\n",
       "      <td>tuang ibu</td>\n",
       "      <td>Pancakaki</td>\n",
       "    </tr>\n",
       "    <tr>\n",
       "      <th>12</th>\n",
       "      <td>budak</td>\n",
       "      <td>budak</td>\n",
       "      <td>murangkalih</td>\n",
       "      <td>Pancakaki</td>\n",
       "    </tr>\n",
       "    <tr>\n",
       "      <th>13</th>\n",
       "      <td>cikal</td>\n",
       "      <td>anak cikal</td>\n",
       "      <td>putra pangageungna</td>\n",
       "      <td>Pancakaki</td>\n",
       "    </tr>\n",
       "    <tr>\n",
       "      <th>14</th>\n",
       "      <td>deungeun deungeun</td>\n",
       "      <td>nu sanes</td>\n",
       "      <td>nu sanes</td>\n",
       "      <td>Pancakaki</td>\n",
       "    </tr>\n",
       "    <tr>\n",
       "      <th>15</th>\n",
       "      <td>incu</td>\n",
       "      <td>pun incu</td>\n",
       "      <td>tuang putu</td>\n",
       "      <td>Pancakaki</td>\n",
       "    </tr>\n",
       "    <tr>\n",
       "      <th>16</th>\n",
       "      <td>indung</td>\n",
       "      <td>pun biang</td>\n",
       "      <td>tuang ibu</td>\n",
       "      <td>Pancakaki</td>\n",
       "    </tr>\n",
       "    <tr>\n",
       "      <th>17</th>\n",
       "      <td>kolot</td>\n",
       "      <td>kolot</td>\n",
       "      <td>sepuh</td>\n",
       "      <td>Pancakaki</td>\n",
       "    </tr>\n",
       "    <tr>\n",
       "      <th>18</th>\n",
       "      <td>lanceuk</td>\n",
       "      <td>pun lanceuk</td>\n",
       "      <td>tuang raka</td>\n",
       "      <td>Pancakaki</td>\n",
       "    </tr>\n",
       "    <tr>\n",
       "      <th>19</th>\n",
       "      <td>minantu</td>\n",
       "      <td>minantu</td>\n",
       "      <td>mantu</td>\n",
       "      <td>Pancakaki</td>\n",
       "    </tr>\n",
       "    <tr>\n",
       "      <th>20</th>\n",
       "      <td>mitoha</td>\n",
       "      <td>mertua</td>\n",
       "      <td>mertua</td>\n",
       "      <td>Pancakaki</td>\n",
       "    </tr>\n",
       "    <tr>\n",
       "      <th>21</th>\n",
       "      <td>nini</td>\n",
       "      <td>pun nini</td>\n",
       "      <td>tuang eyang</td>\n",
       "      <td>Pancakaki</td>\n",
       "    </tr>\n",
       "    <tr>\n",
       "      <th>22</th>\n",
       "      <td>pamajikan</td>\n",
       "      <td>pun bojo</td>\n",
       "      <td>tuang rai</td>\n",
       "      <td>Pancakaki</td>\n",
       "    </tr>\n",
       "    <tr>\n",
       "      <th>23</th>\n",
       "      <td>paman</td>\n",
       "      <td>pun paman</td>\n",
       "      <td>tuang rama</td>\n",
       "      <td>Pancakaki</td>\n",
       "    </tr>\n",
       "    <tr>\n",
       "      <th>24</th>\n",
       "      <td>salaki</td>\n",
       "      <td>pun lanceuk</td>\n",
       "      <td>caroge</td>\n",
       "      <td>Pancakaki</td>\n",
       "    </tr>\n",
       "    <tr>\n",
       "      <th>25</th>\n",
       "      <td>tere</td>\n",
       "      <td>tere</td>\n",
       "      <td>kawalon</td>\n",
       "      <td>Pancakaki</td>\n",
       "    </tr>\n",
       "    <tr>\n",
       "      <th>26</th>\n",
       "      <td>ali</td>\n",
       "      <td>ali</td>\n",
       "      <td>cingcin</td>\n",
       "      <td>Pakean</td>\n",
       "    </tr>\n",
       "    <tr>\n",
       "      <th>27</th>\n",
       "      <td>baju</td>\n",
       "      <td>baju</td>\n",
       "      <td>raksukan</td>\n",
       "      <td>Pakean</td>\n",
       "    </tr>\n",
       "    <tr>\n",
       "      <th>28</th>\n",
       "      <td>bendo</td>\n",
       "      <td>bendo</td>\n",
       "      <td>udeng</td>\n",
       "      <td>Pakean</td>\n",
       "    </tr>\n",
       "    <tr>\n",
       "      <th>29</th>\n",
       "      <td>beubeur</td>\n",
       "      <td>beubeur</td>\n",
       "      <td>beulitan</td>\n",
       "      <td>Pakean</td>\n",
       "    </tr>\n",
       "    <tr>\n",
       "      <th>30</th>\n",
       "      <td>calana</td>\n",
       "      <td>calana</td>\n",
       "      <td>lancingan</td>\n",
       "      <td>Pakean</td>\n",
       "    </tr>\n",
       "    <tr>\n",
       "      <th>31</th>\n",
       "      <td>carecet</td>\n",
       "      <td>carecet</td>\n",
       "      <td>salempay</td>\n",
       "      <td>Pakean</td>\n",
       "    </tr>\n",
       "    <tr>\n",
       "      <th>32</th>\n",
       "      <td>gelung</td>\n",
       "      <td>gelung</td>\n",
       "      <td>sanggul</td>\n",
       "      <td>Pakean</td>\n",
       "    </tr>\n",
       "    <tr>\n",
       "      <th>33</th>\n",
       "      <td>geulang</td>\n",
       "      <td>geulang</td>\n",
       "      <td>pinggel</td>\n",
       "      <td>Pakean</td>\n",
       "    </tr>\n",
       "    <tr>\n",
       "      <th>34</th>\n",
       "      <td>iket</td>\n",
       "      <td>iket</td>\n",
       "      <td>totopong</td>\n",
       "      <td>Pakean</td>\n",
       "    </tr>\n",
       "    <tr>\n",
       "      <th>35</th>\n",
       "      <td>iteuk</td>\n",
       "      <td>iteuk</td>\n",
       "      <td>teteken</td>\n",
       "      <td>Pakean</td>\n",
       "    </tr>\n",
       "    <tr>\n",
       "      <th>36</th>\n",
       "      <td>karembong</td>\n",
       "      <td>karembong</td>\n",
       "      <td>kekemben</td>\n",
       "      <td>Pakean</td>\n",
       "    </tr>\n",
       "    <tr>\n",
       "      <th>37</th>\n",
       "      <td>keris</td>\n",
       "      <td>keris</td>\n",
       "      <td>duhung</td>\n",
       "      <td>Pakean</td>\n",
       "    </tr>\n",
       "    <tr>\n",
       "      <th>38</th>\n",
       "      <td>kongkorong</td>\n",
       "      <td>kongkorong</td>\n",
       "      <td>kangkalung</td>\n",
       "      <td>Pakean</td>\n",
       "    </tr>\n",
       "    <tr>\n",
       "      <th>39</th>\n",
       "      <td>panitih</td>\n",
       "      <td>panitih</td>\n",
       "      <td>sangketan</td>\n",
       "      <td>Pakean</td>\n",
       "    </tr>\n",
       "    <tr>\n",
       "      <th>40</th>\n",
       "      <td>payung</td>\n",
       "      <td>payung</td>\n",
       "      <td>pajeng</td>\n",
       "      <td>Pakean</td>\n",
       "    </tr>\n",
       "    <tr>\n",
       "      <th>41</th>\n",
       "      <td>sabuk</td>\n",
       "      <td>beubeur</td>\n",
       "      <td>beulitan</td>\n",
       "      <td>Pakean</td>\n",
       "    </tr>\n",
       "    <tr>\n",
       "      <th>42</th>\n",
       "      <td>samping</td>\n",
       "      <td>samping</td>\n",
       "      <td>sinjang</td>\n",
       "      <td>Pakean</td>\n",
       "    </tr>\n",
       "    <tr>\n",
       "      <th>43</th>\n",
       "      <td>sisir</td>\n",
       "      <td>sisir</td>\n",
       "      <td>pameres</td>\n",
       "      <td>Pakean</td>\n",
       "    </tr>\n",
       "    <tr>\n",
       "      <th>44</th>\n",
       "      <td>suweng</td>\n",
       "      <td>suweng</td>\n",
       "      <td>kurabu</td>\n",
       "      <td>Pakean</td>\n",
       "    </tr>\n",
       "    <tr>\n",
       "      <th>45</th>\n",
       "      <td>topi</td>\n",
       "      <td>topi</td>\n",
       "      <td>tudung</td>\n",
       "      <td>Pakean</td>\n",
       "    </tr>\n",
       "    <tr>\n",
       "      <th>46</th>\n",
       "      <td>wedak</td>\n",
       "      <td>wedak</td>\n",
       "      <td>pupur</td>\n",
       "      <td>Pakean</td>\n",
       "    </tr>\n",
       "  </tbody>\n",
       "</table>\n",
       "</div>"
      ],
      "text/plain": [
       "                 loma hormat ka sorangan     hormat ka batur           kecap\n",
       "0               akang              akang             engkang  Gaganti ngaran\n",
       "1              kuring               abdi                 NaN  Gaganti ngaran\n",
       "2      kuring sarerea      abdi sadayana                 NaN  Gaganti ngaran\n",
       "3             pribadi           pribados           ku anjeun  Gaganti ngaran\n",
       "4            sorangan           sorangan             nyalira  Gaganti ngaran\n",
       "5                 adi            pun adi           tuang rai       Pancakaki\n",
       "6                 aki            pun aki         tuang eyang       Pancakaki\n",
       "7                 alo            pun alo           kapiputra       Pancakaki\n",
       "8                anak           pun anak         tuang putra       Pancakaki\n",
       "9                bapa           pun bapa          tuang rama       Pancakaki\n",
       "10             baraya            rerehan               wargi       Pancakaki\n",
       "11               bibi           pun bibi           tuang ibu       Pancakaki\n",
       "12              budak              budak         murangkalih       Pancakaki\n",
       "13              cikal         anak cikal  putra pangageungna       Pancakaki\n",
       "14  deungeun deungeun           nu sanes            nu sanes       Pancakaki\n",
       "15               incu           pun incu          tuang putu       Pancakaki\n",
       "16             indung          pun biang           tuang ibu       Pancakaki\n",
       "17              kolot              kolot               sepuh       Pancakaki\n",
       "18            lanceuk        pun lanceuk          tuang raka       Pancakaki\n",
       "19            minantu            minantu               mantu       Pancakaki\n",
       "20             mitoha             mertua              mertua       Pancakaki\n",
       "21               nini           pun nini         tuang eyang       Pancakaki\n",
       "22          pamajikan           pun bojo           tuang rai       Pancakaki\n",
       "23              paman          pun paman          tuang rama       Pancakaki\n",
       "24             salaki        pun lanceuk              caroge       Pancakaki\n",
       "25               tere               tere             kawalon       Pancakaki\n",
       "26                ali                ali             cingcin          Pakean\n",
       "27               baju               baju            raksukan          Pakean\n",
       "28              bendo              bendo               udeng          Pakean\n",
       "29            beubeur            beubeur            beulitan          Pakean\n",
       "30             calana             calana           lancingan          Pakean\n",
       "31            carecet            carecet            salempay          Pakean\n",
       "32             gelung             gelung             sanggul          Pakean\n",
       "33            geulang            geulang             pinggel          Pakean\n",
       "34               iket               iket            totopong          Pakean\n",
       "35              iteuk              iteuk             teteken          Pakean\n",
       "36          karembong          karembong            kekemben          Pakean\n",
       "37              keris              keris              duhung          Pakean\n",
       "38         kongkorong         kongkorong          kangkalung          Pakean\n",
       "39            panitih            panitih           sangketan          Pakean\n",
       "40             payung             payung              pajeng          Pakean\n",
       "41              sabuk            beubeur            beulitan          Pakean\n",
       "42            samping            samping             sinjang          Pakean\n",
       "43              sisir              sisir             pameres          Pakean\n",
       "44             suweng             suweng              kurabu          Pakean\n",
       "45               topi               topi              tudung          Pakean\n",
       "46              wedak              wedak               pupur          Pakean"
      ]
     },
     "execution_count": 3,
     "metadata": {},
     "output_type": "execute_result"
    }
   ],
   "source": [
    "train_data"
   ]
  },
  {
   "cell_type": "code",
   "execution_count": 4,
   "id": "ba9c33e9",
   "metadata": {},
   "outputs": [
    {
     "data": {
      "text/html": [
       "<div>\n",
       "<style scoped>\n",
       "    .dataframe tbody tr th:only-of-type {\n",
       "        vertical-align: middle;\n",
       "    }\n",
       "\n",
       "    .dataframe tbody tr th {\n",
       "        vertical-align: top;\n",
       "    }\n",
       "\n",
       "    .dataframe thead th {\n",
       "        text-align: right;\n",
       "    }\n",
       "</style>\n",
       "<table border=\"1\" class=\"dataframe\">\n",
       "  <thead>\n",
       "    <tr style=\"text-align: right;\">\n",
       "      <th></th>\n",
       "      <th>text</th>\n",
       "      <th>tingkat</th>\n",
       "    </tr>\n",
       "  </thead>\n",
       "  <tbody>\n",
       "    <tr>\n",
       "      <th>0</th>\n",
       "      <td>akang</td>\n",
       "      <td>loma</td>\n",
       "    </tr>\n",
       "    <tr>\n",
       "      <th>1</th>\n",
       "      <td>kuring</td>\n",
       "      <td>loma</td>\n",
       "    </tr>\n",
       "    <tr>\n",
       "      <th>2</th>\n",
       "      <td>kuring sarerea</td>\n",
       "      <td>loma</td>\n",
       "    </tr>\n",
       "    <tr>\n",
       "      <th>3</th>\n",
       "      <td>pribadi</td>\n",
       "      <td>loma</td>\n",
       "    </tr>\n",
       "    <tr>\n",
       "      <th>4</th>\n",
       "      <td>sorangan</td>\n",
       "      <td>loma</td>\n",
       "    </tr>\n",
       "    <tr>\n",
       "      <th>...</th>\n",
       "      <td>...</td>\n",
       "      <td>...</td>\n",
       "    </tr>\n",
       "    <tr>\n",
       "      <th>136</th>\n",
       "      <td>sinjang</td>\n",
       "      <td>lemes ka batur</td>\n",
       "    </tr>\n",
       "    <tr>\n",
       "      <th>137</th>\n",
       "      <td>pameres</td>\n",
       "      <td>lemes ka batur</td>\n",
       "    </tr>\n",
       "    <tr>\n",
       "      <th>138</th>\n",
       "      <td>kurabu</td>\n",
       "      <td>lemes ka batur</td>\n",
       "    </tr>\n",
       "    <tr>\n",
       "      <th>139</th>\n",
       "      <td>tudung</td>\n",
       "      <td>lemes ka batur</td>\n",
       "    </tr>\n",
       "    <tr>\n",
       "      <th>140</th>\n",
       "      <td>pupur</td>\n",
       "      <td>lemes ka batur</td>\n",
       "    </tr>\n",
       "  </tbody>\n",
       "</table>\n",
       "<p>141 rows × 2 columns</p>\n",
       "</div>"
      ],
      "text/plain": [
       "               text         tingkat\n",
       "0             akang            loma\n",
       "1            kuring            loma\n",
       "2    kuring sarerea            loma\n",
       "3           pribadi            loma\n",
       "4          sorangan            loma\n",
       "..              ...             ...\n",
       "136         sinjang  lemes ka batur\n",
       "137         pameres  lemes ka batur\n",
       "138          kurabu  lemes ka batur\n",
       "139          tudung  lemes ka batur\n",
       "140           pupur  lemes ka batur\n",
       "\n",
       "[141 rows x 2 columns]"
      ]
     },
     "execution_count": 4,
     "metadata": {},
     "output_type": "execute_result"
    }
   ],
   "source": [
    "#prepare data latih dan uji\n",
    "lm = pd.DataFrame({'text' : tingkat_loma, 'tingkat': 'loma'})\n",
    "ls = pd.DataFrame({'text' : tingkat_ls, 'tingkat': 'lemes ka diri'})\n",
    "lb = pd.DataFrame({'text' : tingkat_lb, 'tingkat': 'lemes ka batur'})\n",
    "data_uubs = pd.merge(lm,ls,how='outer')\n",
    "data_uubs2 = pd.merge(data_uubs,lb,how='outer')\n",
    "# data_uubs\n",
    "data_set_nv = data_uubs2.copy()\n",
    "data_set_nv"
   ]
  },
  {
   "cell_type": "code",
   "execution_count": 5,
   "id": "e64f0f15",
   "metadata": {},
   "outputs": [
    {
     "data": {
      "text/html": [
       "<div>\n",
       "<style scoped>\n",
       "    .dataframe tbody tr th:only-of-type {\n",
       "        vertical-align: middle;\n",
       "    }\n",
       "\n",
       "    .dataframe tbody tr th {\n",
       "        vertical-align: top;\n",
       "    }\n",
       "\n",
       "    .dataframe thead th {\n",
       "        text-align: right;\n",
       "    }\n",
       "</style>\n",
       "<table border=\"1\" class=\"dataframe\">\n",
       "  <thead>\n",
       "    <tr style=\"text-align: right;\">\n",
       "      <th></th>\n",
       "      <th>text</th>\n",
       "      <th>tingkat</th>\n",
       "      <th>label_num</th>\n",
       "    </tr>\n",
       "  </thead>\n",
       "  <tbody>\n",
       "    <tr>\n",
       "      <th>0</th>\n",
       "      <td>akang</td>\n",
       "      <td>loma</td>\n",
       "      <td>0</td>\n",
       "    </tr>\n",
       "    <tr>\n",
       "      <th>1</th>\n",
       "      <td>kuring</td>\n",
       "      <td>loma</td>\n",
       "      <td>0</td>\n",
       "    </tr>\n",
       "    <tr>\n",
       "      <th>2</th>\n",
       "      <td>kuring sarerea</td>\n",
       "      <td>loma</td>\n",
       "      <td>0</td>\n",
       "    </tr>\n",
       "    <tr>\n",
       "      <th>3</th>\n",
       "      <td>pribadi</td>\n",
       "      <td>loma</td>\n",
       "      <td>0</td>\n",
       "    </tr>\n",
       "    <tr>\n",
       "      <th>4</th>\n",
       "      <td>sorangan</td>\n",
       "      <td>loma</td>\n",
       "      <td>0</td>\n",
       "    </tr>\n",
       "    <tr>\n",
       "      <th>...</th>\n",
       "      <td>...</td>\n",
       "      <td>...</td>\n",
       "      <td>...</td>\n",
       "    </tr>\n",
       "    <tr>\n",
       "      <th>136</th>\n",
       "      <td>sinjang</td>\n",
       "      <td>lemes ka batur</td>\n",
       "      <td>2</td>\n",
       "    </tr>\n",
       "    <tr>\n",
       "      <th>137</th>\n",
       "      <td>pameres</td>\n",
       "      <td>lemes ka batur</td>\n",
       "      <td>2</td>\n",
       "    </tr>\n",
       "    <tr>\n",
       "      <th>138</th>\n",
       "      <td>kurabu</td>\n",
       "      <td>lemes ka batur</td>\n",
       "      <td>2</td>\n",
       "    </tr>\n",
       "    <tr>\n",
       "      <th>139</th>\n",
       "      <td>tudung</td>\n",
       "      <td>lemes ka batur</td>\n",
       "      <td>2</td>\n",
       "    </tr>\n",
       "    <tr>\n",
       "      <th>140</th>\n",
       "      <td>pupur</td>\n",
       "      <td>lemes ka batur</td>\n",
       "      <td>2</td>\n",
       "    </tr>\n",
       "  </tbody>\n",
       "</table>\n",
       "<p>141 rows × 3 columns</p>\n",
       "</div>"
      ],
      "text/plain": [
       "               text         tingkat  label_num\n",
       "0             akang            loma          0\n",
       "1            kuring            loma          0\n",
       "2    kuring sarerea            loma          0\n",
       "3           pribadi            loma          0\n",
       "4          sorangan            loma          0\n",
       "..              ...             ...        ...\n",
       "136         sinjang  lemes ka batur          2\n",
       "137         pameres  lemes ka batur          2\n",
       "138          kurabu  lemes ka batur          2\n",
       "139          tudung  lemes ka batur          2\n",
       "140           pupur  lemes ka batur          2\n",
       "\n",
       "[141 rows x 3 columns]"
      ]
     },
     "execution_count": 5,
     "metadata": {},
     "output_type": "execute_result"
    }
   ],
   "source": [
    "#ubah label data menjadi numerik\n",
    "data_set_nv['label_num'] = data_set_nv.tingkat.map({'loma':0, 'lemes ka diri':1, 'lemes ka batur':2})\n",
    "data_set_nv['label_num'].value_counts()\n",
    "data_set_nv"
   ]
  },
  {
   "cell_type": "code",
   "execution_count": 6,
   "id": "0c60fdbc",
   "metadata": {},
   "outputs": [
    {
     "name": "stdout",
     "output_type": "stream",
     "text": [
      "tingkat ['loma' 'lemes ka diri' 'lemes ka batur']\n",
      "jumlah baris dan kolom :  (141, 3)\n",
      "jumlas isi class/label :\n",
      " loma              47\n",
      "lemes ka diri     47\n",
      "lemes ka batur    47\n",
      "Name: tingkat, dtype: int64\n"
     ]
    }
   ],
   "source": [
    "#info data\n",
    "#keterangan label\n",
    "kategori_data = ['tingkat']\n",
    "for kolom in kategori_data:\n",
    "    print(kolom, data_set_nv[kolom].unique())\n",
    "    \n",
    "#jumlah baris dan kolom\n",
    "print('jumlah baris dan kolom : ',data_set_nv.shape)\n",
    "\n",
    "#jumlah isi class\n",
    "print('jumlas isi class/label :\\n',data_set_nv.tingkat.value_counts())"
   ]
  },
  {
   "cell_type": "code",
   "execution_count": 7,
   "id": "b1c19646",
   "metadata": {},
   "outputs": [
    {
     "name": "stdout",
     "output_type": "stream",
     "text": [
      "<class 'pandas.core.frame.DataFrame'>\n",
      "Int64Index: 141 entries, 0 to 140\n",
      "Data columns (total 3 columns):\n",
      " #   Column     Non-Null Count  Dtype \n",
      "---  ------     --------------  ----- \n",
      " 0   text       139 non-null    object\n",
      " 1   tingkat    141 non-null    object\n",
      " 2   label_num  141 non-null    int64 \n",
      "dtypes: int64(1), object(2)\n",
      "memory usage: 4.4+ KB\n"
     ]
    }
   ],
   "source": [
    "#info data set\n",
    "data_set_nv.info()"
   ]
  },
  {
   "cell_type": "code",
   "execution_count": 8,
   "id": "7a79ad80",
   "metadata": {},
   "outputs": [
    {
     "data": {
      "text/plain": [
       "text         2\n",
       "tingkat      0\n",
       "label_num    0\n",
       "dtype: int64"
      ]
     },
     "execution_count": 8,
     "metadata": {},
     "output_type": "execute_result"
    }
   ],
   "source": [
    "#cek data null\n",
    "data_set_nv.isnull().sum()"
   ]
  },
  {
   "cell_type": "code",
   "execution_count": 9,
   "id": "ce5d011c",
   "metadata": {},
   "outputs": [
    {
     "data": {
      "text/plain": [
       "(141, 3)"
      ]
     },
     "execution_count": 9,
     "metadata": {},
     "output_type": "execute_result"
    }
   ],
   "source": [
    "#data set awal\n",
    "data_set_nv.shape"
   ]
  },
  {
   "cell_type": "code",
   "execution_count": 10,
   "id": "b30b48a3",
   "metadata": {},
   "outputs": [],
   "source": [
    "#drop data null\n",
    "data_set = data_set_nv.dropna()"
   ]
  },
  {
   "cell_type": "code",
   "execution_count": 11,
   "id": "93b71cd3",
   "metadata": {},
   "outputs": [
    {
     "data": {
      "text/plain": [
       "text         0\n",
       "tingkat      0\n",
       "label_num    0\n",
       "dtype: int64"
      ]
     },
     "execution_count": 11,
     "metadata": {},
     "output_type": "execute_result"
    }
   ],
   "source": [
    "#cek data null kembali\n",
    "data_set.isnull().sum()\n",
    "# print(data_clear)"
   ]
  },
  {
   "cell_type": "code",
   "execution_count": 12,
   "id": "b9eac85f",
   "metadata": {},
   "outputs": [
    {
     "data": {
      "text/plain": [
       "(139, 3)"
      ]
     },
     "execution_count": 12,
     "metadata": {},
     "output_type": "execute_result"
    }
   ],
   "source": [
    "#data set clear\n",
    "data_set.shape"
   ]
  },
  {
   "cell_type": "code",
   "execution_count": 13,
   "id": "482d97ae",
   "metadata": {},
   "outputs": [
    {
     "data": {
      "text/html": [
       "<div>\n",
       "<style scoped>\n",
       "    .dataframe tbody tr th:only-of-type {\n",
       "        vertical-align: middle;\n",
       "    }\n",
       "\n",
       "    .dataframe tbody tr th {\n",
       "        vertical-align: top;\n",
       "    }\n",
       "\n",
       "    .dataframe thead th {\n",
       "        text-align: right;\n",
       "    }\n",
       "</style>\n",
       "<table border=\"1\" class=\"dataframe\">\n",
       "  <thead>\n",
       "    <tr style=\"text-align: right;\">\n",
       "      <th></th>\n",
       "      <th>text</th>\n",
       "      <th>tingkat</th>\n",
       "      <th>label_num</th>\n",
       "    </tr>\n",
       "  </thead>\n",
       "  <tbody>\n",
       "    <tr>\n",
       "      <th>0</th>\n",
       "      <td>akang</td>\n",
       "      <td>loma</td>\n",
       "      <td>0</td>\n",
       "    </tr>\n",
       "    <tr>\n",
       "      <th>1</th>\n",
       "      <td>kuring</td>\n",
       "      <td>loma</td>\n",
       "      <td>0</td>\n",
       "    </tr>\n",
       "    <tr>\n",
       "      <th>2</th>\n",
       "      <td>kuring sarerea</td>\n",
       "      <td>loma</td>\n",
       "      <td>0</td>\n",
       "    </tr>\n",
       "    <tr>\n",
       "      <th>3</th>\n",
       "      <td>pribadi</td>\n",
       "      <td>loma</td>\n",
       "      <td>0</td>\n",
       "    </tr>\n",
       "    <tr>\n",
       "      <th>4</th>\n",
       "      <td>sorangan</td>\n",
       "      <td>loma</td>\n",
       "      <td>0</td>\n",
       "    </tr>\n",
       "    <tr>\n",
       "      <th>...</th>\n",
       "      <td>...</td>\n",
       "      <td>...</td>\n",
       "      <td>...</td>\n",
       "    </tr>\n",
       "    <tr>\n",
       "      <th>136</th>\n",
       "      <td>sinjang</td>\n",
       "      <td>lemes ka batur</td>\n",
       "      <td>2</td>\n",
       "    </tr>\n",
       "    <tr>\n",
       "      <th>137</th>\n",
       "      <td>pameres</td>\n",
       "      <td>lemes ka batur</td>\n",
       "      <td>2</td>\n",
       "    </tr>\n",
       "    <tr>\n",
       "      <th>138</th>\n",
       "      <td>kurabu</td>\n",
       "      <td>lemes ka batur</td>\n",
       "      <td>2</td>\n",
       "    </tr>\n",
       "    <tr>\n",
       "      <th>139</th>\n",
       "      <td>tudung</td>\n",
       "      <td>lemes ka batur</td>\n",
       "      <td>2</td>\n",
       "    </tr>\n",
       "    <tr>\n",
       "      <th>140</th>\n",
       "      <td>pupur</td>\n",
       "      <td>lemes ka batur</td>\n",
       "      <td>2</td>\n",
       "    </tr>\n",
       "  </tbody>\n",
       "</table>\n",
       "<p>139 rows × 3 columns</p>\n",
       "</div>"
      ],
      "text/plain": [
       "               text         tingkat  label_num\n",
       "0             akang            loma          0\n",
       "1            kuring            loma          0\n",
       "2    kuring sarerea            loma          0\n",
       "3           pribadi            loma          0\n",
       "4          sorangan            loma          0\n",
       "..              ...             ...        ...\n",
       "136         sinjang  lemes ka batur          2\n",
       "137         pameres  lemes ka batur          2\n",
       "138          kurabu  lemes ka batur          2\n",
       "139          tudung  lemes ka batur          2\n",
       "140           pupur  lemes ka batur          2\n",
       "\n",
       "[139 rows x 3 columns]"
      ]
     },
     "execution_count": 13,
     "metadata": {},
     "output_type": "execute_result"
    }
   ],
   "source": [
    "data_set"
   ]
  },
  {
   "cell_type": "code",
   "execution_count": 55,
   "id": "279e9e7a",
   "metadata": {},
   "outputs": [],
   "source": [
    "#prepare latih/training data\n",
    "#probabilitas/tfidf\n",
    "transformer = TfidfTransformer(smooth_idf=False)\n",
    "vect = CountVectorizer(ngram_range=(1,2))\n",
    "\n",
    "#extract data\n",
    "train_counts = vect.fit_transform(data_set['text'].values)\n",
    "train_tfidf = transformer.fit_transform(train_counts)\n",
    "label = data_set['label_num'].values\n",
    "tdm_t2 = pd.DataFrame(train_tfidf.toarray(), columns=vect.get_feature_names_out())\n",
    "# print(train_tfidf)\n",
    "# tdm_t2"
   ]
  },
  {
   "cell_type": "code",
   "execution_count": 15,
   "id": "80896181",
   "metadata": {},
   "outputs": [],
   "source": [
    "#prepare data latih/training data\n",
    "X_train, X_test, y_train, y_test = train_test_split(train_tfidf, label,random_state=30)"
   ]
  },
  {
   "cell_type": "code",
   "execution_count": 16,
   "id": "1a052bee",
   "metadata": {},
   "outputs": [
    {
     "name": "stdout",
     "output_type": "stream",
     "text": [
      "MultinomialNB()\n"
     ]
    },
    {
     "data": {
      "text/plain": [
       "0.875"
      ]
     },
     "execution_count": 16,
     "metadata": {},
     "output_type": "execute_result"
    }
   ],
   "source": [
    "#process latih/training dengan data Naive Bayes\n",
    "nb = MultinomialNB()\n",
    "model = nb.fit(X_train,y_train)\n",
    "print(model)\n",
    "nb.score(X_train,y_train)"
   ]
  },
  {
   "cell_type": "code",
   "execution_count": 17,
   "id": "51954bed",
   "metadata": {},
   "outputs": [
    {
     "name": "stdout",
     "output_type": "stream",
     "text": [
      "MultinomialNB()\n"
     ]
    },
    {
     "data": {
      "text/plain": [
       "0.9714285714285714"
      ]
     },
     "execution_count": 17,
     "metadata": {},
     "output_type": "execute_result"
    }
   ],
   "source": [
    "#process uji/testing dengan data Naive Bayes\n",
    "model2 = nb.fit(X_test,y_test)\n",
    "print(model2)\n",
    "nb.score(X_test, y_test)"
   ]
  },
  {
   "cell_type": "code",
   "execution_count": 18,
   "id": "6826aaee",
   "metadata": {},
   "outputs": [
    {
     "name": "stdout",
     "output_type": "stream",
     "text": [
      "[1]\n"
     ]
    }
   ],
   "source": [
    "#predict data\n",
    "docs_new = ['keris']\n",
    "X_new_counts = vect.transform(docs_new)\n",
    "X_new_tfidf = transformer.transform(X_new_counts)\n",
    "\n",
    "predicted = nb.predict(X_new_tfidf)\n",
    "print(predicted)"
   ]
  },
  {
   "cell_type": "code",
   "execution_count": 19,
   "id": "e67811e1",
   "metadata": {},
   "outputs": [
    {
     "data": {
      "text/plain": [
       "array([[11,  1,  0],\n",
       "       [ 0, 13,  0],\n",
       "       [ 0,  0, 10]], dtype=int64)"
      ]
     },
     "execution_count": 19,
     "metadata": {},
     "output_type": "execute_result"
    }
   ],
   "source": [
    "#evaluasi training and tasting\n",
    "y_pred_class = nb.predict(X_test)\n",
    "# y_pred_class\n",
    "metrics.confusion_matrix(y_test, y_pred_class)"
   ]
  },
  {
   "cell_type": "code",
   "execution_count": 58,
   "id": "8e283d6d",
   "metadata": {},
   "outputs": [
    {
     "data": {
      "text/plain": [
       "<AxesSubplot:>"
      ]
     },
     "execution_count": 58,
     "metadata": {},
     "output_type": "execute_result"
    },
    {
     "data": {
      "image/png": "[encoded data removed]",
      "text/plain": [
       "<Figure size 432x360 with 2 Axes>"
      ]
     },
     "metadata": {
      "needs_background": "light"
     },
     "output_type": "display_data"
    }
   ],
   "source": [
    "plt.figure(figsize = (6, 5))\n",
    "sns.heatmap(metrics.confusion_matrix(y_test, y_pred_class), annot=True)"
   ]
  },
  {
   "cell_type": "code",
   "execution_count": 20,
   "id": "1699629a",
   "metadata": {},
   "outputs": [
    {
     "name": "stdout",
     "output_type": "stream",
     "text": [
      "              precision    recall  f1-score   support\n",
      "\n",
      "           0       1.00      0.92      0.96        12\n",
      "           1       0.93      1.00      0.96        13\n",
      "           2       1.00      1.00      1.00        10\n",
      "\n",
      "    accuracy                           0.97        35\n",
      "   macro avg       0.98      0.97      0.97        35\n",
      "weighted avg       0.97      0.97      0.97        35\n",
      "\n"
     ]
    }
   ],
   "source": [
    "print(classification_report(y_test, y_pred_class, labels=[0,1,2]))"
   ]
  },
  {
   "cell_type": "code",
   "execution_count": 77,
   "id": "5b3b38bf",
   "metadata": {},
   "outputs": [
    {
     "name": "stdout",
     "output_type": "stream",
     "text": [
      "[0. 0. 0. 0. 1. 0. 1. 0. 1. 0. 0. 0. 0. 0. 0. 0. 0. 0. 0. 0. 0. 0. 1. 0.\n",
      " 0. 0. 0. 0. 0. 1. 0. 0. 0. 1. 0.]\n"
     ]
    }
   ],
   "source": [
    "from sklearn.model_selection import KFold, cross_val_score\n",
    "# k_fold = KFold(len(y_test), n_folds=10, shuffle=True, random_state=0)\n",
    "k_fold = KFold(len(y_test),shuffle=True, random_state=0)\n",
    "clf = MultinomialNB()\n",
    "print(cross_val_score(clf, X_test, y_test, cv=k_fold, n_jobs=1))"
   ]
  },
  {
   "cell_type": "code",
   "execution_count": 21,
   "id": "ba33bff9",
   "metadata": {},
   "outputs": [],
   "source": [
    "#prepocessing\n",
    "import nltk\n",
    "from nltk.tokenize import word_tokenize, RegexpTokenizer "
   ]
  },
  {
   "cell_type": "code",
   "execution_count": 48,
   "id": "8133a25b",
   "metadata": {},
   "outputs": [],
   "source": [
    "#data cleaning\n",
    "\n",
    "#filter karakter\n",
    "#filter ubah huruf kecil\n",
    "def remove_char(text):\n",
    "    if len(text):\n",
    "        tokenizer = RegexpTokenizer(r\"[a-zA-Z]+\")\n",
    "        lst=tokenizer.tokenize(' '.join(text))\n",
    "        lstxt = list((map(lambda x: x.lower(), lst)))\n",
    "        return lstxt\n",
    "    else:\n",
    "        return print('empty')"
   ]
  },
  {
   "cell_type": "code",
   "execution_count": 34,
   "id": "5114eaa2",
   "metadata": {},
   "outputs": [],
   "source": [
    "#filter kata yang termasuk dalam kamus\n",
    "def check_dict(text):\n",
    "    result = []\n",
    "    for token in text:\n",
    "        if token in list(data_set['text']):\n",
    "            result.append(token)  \n",
    "    return result"
   ]
  },
  {
   "cell_type": "code",
   "execution_count": 53,
   "id": "dede2724",
   "metadata": {},
   "outputs": [
    {
     "name": "stdout",
     "output_type": "stream",
     "text": [
      "['Pun', 'Adi', 'sareng', 'pun', 'bapa', 'mah', 'atos', 'tuang', '2', '?']\n",
      "['pun', 'adi', 'sareng', 'pun', 'bapa', 'mah', 'atos', 'tuang']\n"
     ]
    }
   ],
   "source": [
    "new_sentence = 'Pun Adi sareng pun bapa mah atos tuang 2 ?'\n",
    "new_word_list = word_tokenize(new_sentence)\n",
    "# k_piih = 'loma'\n",
    "print(new_word_list)\n",
    "clean_data = remove_char(new_word_list)\n",
    "print(clean_data)\n",
    "\n",
    "\n",
    "#data reduction\n",
    "#tokenize\n",
    "#filter semantik\n",
    "\n",
    "#data tranformation and data discretization\n",
    "#extract text to process value tfidf\n",
    "#train data\n",
    "\n",
    "#data integration"
   ]
  },
  {
   "cell_type": "code",
   "execution_count": 54,
   "id": "5d7f1ced",
   "metadata": {},
   "outputs": [
    {
     "name": "stdout",
     "output_type": "stream",
     "text": [
      "data clean:  ['pun', 'adi', 'sareng', 'pun', 'bapa', 'mah', 'atos', 'tuang']\n",
      "b:  ['pun' 'adi' 'sareng' 'pun' 'bapa' 'mah' 'atos' 'tuang' 'pun adi'\n",
      " 'pun bapa']\n",
      "hasil akhir:  ['atos' 'mah' 'pun adi' 'pun bapa' 'sareng' 'tuang']\n",
      "hasil final:  ['pun adi', 'pun bapa']\n"
     ]
    }
   ],
   "source": [
    "#semantik 2 kata\n",
    "tx = list(nltk.bigrams(clean_data))\n",
    "kt = []\n",
    "for lst in tx:\n",
    "    txf = ' '.join(lst)\n",
    "    kt.append(txf)\n",
    "# print(kt)\n",
    "kt_nw = kt\n",
    "dt_sm = check_dict(kt)\n",
    "dt_sm_new = list(map(word_tokenize,dt_sm))\n",
    "\n",
    "# print('awal: ',kt)\n",
    "# print('pilih sesuai corpus: ',dt_sm)\n",
    "# print('breakdown: ',dt_sm_new)\n",
    "print('data clean: ',clean_data)\n",
    "\n",
    "a = np.array(dt_sm_new)\n",
    "b = np.array(clean_data+dt_sm)\n",
    "# print('a: ',a)\n",
    "print('b: ',b)\n",
    "c = a.ravel()\n",
    "# print('c: ',c)\n",
    "con = np.concatenate((c,b),axis=0)\n",
    "# print(set(con))\n",
    "# print(con)\n",
    "new = np.setdiff1d(con, c)\n",
    "\n",
    "print('hasil akhir: ',new)\n",
    "new_dt = check_dict(new)\n",
    "print('hasil final: ',new_dt)\n",
    "# type(c)"
   ]
  },
  {
   "cell_type": "code",
   "execution_count": 32,
   "id": "571cc4cf",
   "metadata": {},
   "outputs": [],
   "source": [
    "#predict data\n",
    "#beri tanda yg tidak sesuai kategori\n",
    "#hasil freq ditampilkan ke persen"
   ]
  },
  {
   "cell_type": "code",
   "execution_count": null,
   "id": "72601720",
   "metadata": {},
   "outputs": [],
   "source": []
  },
  {
   "cell_type": "code",
   "execution_count": null,
   "id": "fe0d476a",
   "metadata": {},
   "outputs": [],
   "source": []
  },
  {
   "cell_type": "code",
   "execution_count": null,
   "id": "0b0944ae",
   "metadata": {},
   "outputs": [],
   "source": []
  },
  {
   "cell_type": "code",
   "execution_count": null,
   "id": "d071cbd5",
   "metadata": {},
   "outputs": [],
   "source": []
  },
  {
   "cell_type": "code",
   "execution_count": null,
   "id": "91b7b7ce",
   "metadata": {},
   "outputs": [],
   "source": []
  },
  {
   "cell_type": "code",
   "execution_count": null,
   "id": "42c1983c",
   "metadata": {},
   "outputs": [],
   "source": []
  },
  {
   "cell_type": "code",
   "execution_count": null,
   "id": "7bbce5e5",
   "metadata": {},
   "outputs": [],
   "source": []
  }
 ],
 "metadata": {
  "kernelspec": {
   "display_name": "Python 3 (ipykernel)",
   "language": "python",
   "name": "python3"
  },
  "language_info": {
   "codemirror_mode": {
    "name": "ipython",
    "version": 3
   },
   "file_extension": ".py",
   "mimetype": "text/x-python",
   "name": "python",
   "nbconvert_exporter": "python",
   "pygments_lexer": "ipython3",
   "version": "3.8.7"
  }
 },
 "nbformat": 4,
 "nbformat_minor": 5
}
